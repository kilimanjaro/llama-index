{
 "cells": [
  {
   "cell_type": "markdown",
   "id": "b38d0d5d-d57f-497b-82e8-db5178e07eac",
   "metadata": {},
   "source": [
    "### 3.2.1 크로마 클라이언트 생성"
   ]
  },
  {
   "cell_type": "code",
   "execution_count": null,
   "id": "2f7046c3-5187-4f8f-bb41-798e9172ef8e",
   "metadata": {},
   "outputs": [],
   "source": [
    "import chromadb\n",
    "# 크로마 클라이언트 생성    \n",
    "client = chromadb.Client()"
   ]
  },
  {
   "cell_type": "markdown",
   "id": "f4c6771a-da0b-49e1-a306-6b43e9d29b61",
   "metadata": {},
   "source": [
    "### 3.2.2 컬렉션 생성"
   ]
  },
  {
   "cell_type": "code",
   "execution_count": 2,
   "id": "19786b98-e065-40bc-8bc8-ef208e038f29",
   "metadata": {},
   "outputs": [],
   "source": [
    "# 벡터 컬렉션 생성\n",
    "collection = client.create_collection(\"example_collection\")"
   ]
  },
  {
   "cell_type": "markdown",
   "id": "39051825-0870-4eb6-bcc6-55f239614c81",
   "metadata": {},
   "source": [
    "### 3.2.3 벡터 데이터 추가"
   ]
  },
  {
   "cell_type": "code",
   "execution_count": 3,
   "id": "c112e5ac-089f-47d0-99e3-6922f3d99f77",
   "metadata": {},
   "outputs": [
    {
     "name": "stdout",
     "output_type": "stream",
     "text": [
      "벡터 데이터를 컬렉션에 추가했습니다.\n"
     ]
    }
   ],
   "source": [
    "# 임베딩된 벡터 데이터 (예시로 임의 벡터 사용)\n",
    "vectors = [\n",
    "[0.1, 0.2, 0.3], # 첫 번째 데이터의 벡터\n",
    "[0.4, 0.5, 0.6], # 두 번째 데이터의 벡터\n",
    "[0.7, 0.8, 0.9], # 세 번째 데이터의 벡터\n",
    "]\n",
    "# 벡터와 연결된 임의 고유 ID (각 벡터마다 고유한 ID 필요)\n",
    "ids = [\"doc1\", \"doc2\", \"doc3\"]\n",
    "\n",
    "# 벡터 데이터 추가\n",
    "collection.add(ids=ids, embeddings=vectors)\n",
    "print(\"벡터 데이터를 컬렉션에 추가했습니다.\")"
   ]
  },
  {
   "cell_type": "markdown",
   "id": "1417dda9-4e42-4f34-99d0-0f7031061b1e",
   "metadata": {},
   "source": [
    "### 3.2.4 벡터 검색"
   ]
  },
  {
   "cell_type": "code",
   "execution_count": 4,
   "id": "e0018fc9-73a5-4dd1-bd24-a489e82948e4",
   "metadata": {},
   "outputs": [
    {
     "name": "stdout",
     "output_type": "stream",
     "text": [
      "\n",
      "유사한 벡터 검색 결과:\n",
      "{\n",
      "    \"검색된 문서 ID\": [\n",
      "        \"doc1\",\n",
      "        \"doc2\"\n",
      "    ],\n",
      "    \"유사도 거리\": [\n",
      "        0.002500001108273864,\n",
      "        0.30250000953674316\n",
      "    ]\n",
      "}\n"
     ]
    }
   ],
   "source": [
    "import json\n",
    "\n",
    "# 검색할 벡터 (예시로 임의 벡터 사용)\n",
    "query_vector = [0.1, 0.2, 0.25]\n",
    "\n",
    "# 벡터 컬렉션에서 유사한 벡터 검색\n",
    "results = collection.query(query_embeddings=[query_vector], n_results=2)\n",
    "formatted_results = {\n",
    "    \"검색된 문서 ID\": results[\"ids\"][0],\n",
    "    \"유사도 거리\": results[\"distances\"][0]\n",
    "}\n",
    "print(\"\\n유사한 벡터 검색 결과:\")\n",
    "print(json.dumps(formatted_results, indent=4, ensure_ascii=False))"
   ]
  },
  {
   "cell_type": "markdown",
   "id": "cf2684a1-c558-4f0f-9364-b28ce340efba",
   "metadata": {},
   "source": [
    "### 3.2.5 메타데이터 필터링"
   ]
  },
  {
   "cell_type": "code",
   "execution_count": 5,
   "id": "d43f9b19-c030-4d3a-90e5-7b0b70957a30",
   "metadata": {},
   "outputs": [
    {
     "name": "stdout",
     "output_type": "stream",
     "text": [
      "\n",
      "유사한 벡터 검색 결과:\n",
      "{\n",
      "    \"검색된 문서 ID\": [\n",
      "        \"doc1\"\n",
      "    ],\n",
      "    \"유사도 거리\": [\n",
      "        0.0\n",
      "    ],\n",
      "    \"메타데이터\": [\n",
      "        {\n",
      "            \"category\": \"A\",\n",
      "            \"name\": \"example\"\n",
      "        }\n",
      "    ]\n",
      "}\n"
     ]
    }
   ],
   "source": [
    "collection = client.create_collection(\"metadata_example_collection\")\n",
    "\n",
    "# 임베딩된 벡터 데이터 및 메타데이터 추가\n",
    "vectors = [\n",
    "    [0.1, 0.2, 0.3], # 첫 번째 데이터 벡터\n",
    "    [0.4, 0.5, 0.6], # 두 번째 데이터 벡터\n",
    "    [0.7, 0.8, 0.9], # 세 번째 데이터 벡터\n",
    "]\n",
    "ids = [\"doc1\", \"doc2\", \"doc3\"]\n",
    "\n",
    "metadatas = [\n",
    "    {\"name\": \"example\", \"category\": \"A\"}, # 첫 번째 문서의 메타데이터\n",
    "    {\"name\": \"sample\", \"category\": \"B\"}, # 두 번째 문서의 메타데이터\n",
    "    {\"name\": \"example\", \"category\": \"C\"} # 세 번째 문서의 메타데이터\n",
    "]\n",
    "\n",
    "# 벡터 데이터 추가 (메타데이터 포함)\n",
    "collection.add(ids=ids, embeddings=vectors, metadatas=metadatas)\n",
    "results = collection.query(\n",
    "    query_embeddings=[[0.1, 0.2, 0.3]],\n",
    "    n_results=1,\n",
    "    where={\"name\": \"example\"} # 메타데이터 필터 적용\n",
    ")\n",
    "\n",
    "# 검색 결과 정리\n",
    "formatted_results = {\n",
    "    \"검색된 문서 ID\": results[\"ids\"][0] if results[\"ids\"] else [],\n",
    "    \"유사도 거리\": results[\"distances\"][0] if results[\"distances\"] else [],\n",
    "    \"메타데이터\": results[\"metadatas\"][0] if results[\"metadatas\"] else []\n",
    "}\n",
    "\n",
    "print(\"\\n유사한 벡터 검색 결과:\")\n",
    "print(json.dumps(formatted_results, indent=4, ensure_ascii=False))"
   ]
  },
  {
   "cell_type": "markdown",
   "id": "4bd067a0-4609-45af-831a-627c2c6f5d86",
   "metadata": {},
   "source": [
    "### 3.2.6 임베딩 데이터 추가"
   ]
  },
  {
   "cell_type": "code",
   "execution_count": 7,
   "id": "b807b8d9-b954-4646-a0be-b74481407fb3",
   "metadata": {},
   "outputs": [
    {
     "name": "stdout",
     "output_type": "stream",
     "text": [
      "임베딩 결과: [-3.16610411e-02  9.91080925e-02  3.21414135e-02 -4.77651367e-03\n",
      "  2.06648316e-02 -4.26964313e-02  1.08513169e-01  5.91693446e-02\n",
      " -3.82518843e-02 -2.70917639e-02  1.10797666e-01 -3.27146053e-02\n",
      "  8.14444125e-02 -1.82765629e-02  3.63843627e-02 -3.83140929e-02\n",
      "  3.29664573e-02  3.95626165e-02 -2.65554637e-02 -3.17468382e-02\n",
      "  1.29391598e-02  2.19178200e-02  1.07889272e-01  1.24165462e-02\n",
      " -7.60592446e-02 -5.10002673e-02  3.95048968e-02  1.36652626e-02\n",
      "  8.86634961e-02 -4.19127122e-02  6.43827161e-03  4.20046151e-02\n",
      "  6.79684505e-02  1.37291607e-02  2.50339452e-02 -3.60204428e-02\n",
      " -4.92923893e-02 -1.51257534e-02 -4.84425090e-02  6.49661273e-02\n",
      " -5.19369282e-02 -3.22293453e-02  7.63612017e-02 -1.37317479e-01\n",
      "  1.76455211e-02  2.84964610e-02 -4.42443639e-02 -4.08117250e-02\n",
      " -6.28238916e-02  1.08337730e-01 -3.33936475e-02 -4.31645475e-02\n",
      " -5.31807989e-02  1.91285312e-02  4.64880876e-02 -5.00250161e-02\n",
      " -5.93597405e-02 -3.17170471e-02 -2.08584368e-02 -2.07602289e-02\n",
      "  2.15868540e-02  7.41534494e-03 -6.69788122e-02  7.33071342e-02\n",
      " -5.92239313e-02  8.28645006e-03  3.35812457e-02  3.57120410e-02\n",
      "  6.71472400e-03  3.45605575e-02  7.06921378e-03 -6.44720346e-02\n",
      "  5.00060469e-02 -1.81447323e-02 -9.14586186e-02 -3.30227353e-02\n",
      "  9.14648101e-02  1.37265231e-02  3.55795585e-02 -1.39514916e-02\n",
      " -5.63572347e-02  4.63779969e-03  5.35780238e-03 -1.38113857e-03\n",
      " -3.96535844e-02  1.42094595e-02 -6.29154816e-02  4.22117822e-02\n",
      "  1.74149161e-03  5.99134862e-02 -1.30139878e-02  9.44604203e-02\n",
      " -4.85079400e-02 -3.77958664e-03 -2.03624696e-01  2.03518849e-03\n",
      " -3.11785098e-02 -9.40066238e-04 -7.35910535e-02  2.52734590e-02\n",
      " -1.85041036e-02  7.12737665e-02  8.88845399e-02  9.34030712e-02\n",
      " -7.47091463e-03 -6.66724965e-02  7.08035901e-02 -6.93363547e-02\n",
      "  3.72661948e-02 -1.79751497e-02 -5.19382060e-02 -7.82708675e-02\n",
      " -6.83369264e-02 -6.63840547e-02  3.83139923e-02  4.25541550e-02\n",
      "  4.39658463e-02 -3.98182161e-02 -5.71763553e-02  2.55727395e-02\n",
      "  4.00999300e-02 -8.80812388e-03 -4.20923419e-02 -8.06470290e-02\n",
      " -7.13873506e-02 -6.66663423e-02  3.14591154e-02  4.67961473e-33\n",
      " -8.02345350e-02 -9.14917700e-03 -8.00388958e-03 -3.66544314e-02\n",
      " -1.00813530e-01 -2.28972081e-03 -3.61441076e-02  7.27766426e-03\n",
      " -2.48579662e-02 -1.61839575e-02 -1.81374829e-02 -1.00512048e-02\n",
      " -8.20064619e-02 -6.43665949e-03 -1.31859509e-02 -2.00740509e-02\n",
      " -7.15505630e-02  5.85352704e-02 -1.06152557e-02  7.33175129e-02\n",
      " -1.55126126e-02 -3.54481488e-02  2.02956107e-02 -5.73081803e-03\n",
      "  1.69442780e-02 -3.63551490e-02  3.28085981e-02  1.00963367e-02\n",
      " -2.43480839e-02  3.96641530e-02  4.54084352e-02 -1.14480359e-02\n",
      " -5.70796803e-02 -3.48399803e-02 -1.44316228e-02 -7.76134757e-03\n",
      "  4.22076099e-02  3.82222198e-02  2.25991253e-02 -2.56653083e-03\n",
      " -1.18871697e-03 -5.93661927e-02 -1.27160817e-01 -1.13444189e-02\n",
      "  4.09548879e-02  2.02995297e-02 -7.44118821e-03 -1.47839515e-02\n",
      "  4.96318676e-02 -6.91380948e-02 -5.33182919e-02  2.50073615e-02\n",
      " -1.39350081e-02  3.17270346e-02  7.68010244e-02  4.76927077e-03\n",
      "  9.34305862e-02 -1.11614093e-02 -1.58342533e-02 -1.09409457e-02\n",
      " -8.73261038e-03 -2.13814937e-02 -2.27431450e-02  6.69615939e-02\n",
      "  6.67220354e-02 -4.68352363e-02 -1.85794216e-02  9.28121619e-03\n",
      "  7.51922652e-03 -8.32175165e-02 -7.34891295e-02 -6.53106719e-02\n",
      "  7.53287785e-03  3.50093879e-02 -8.29220265e-02 -7.06545338e-02\n",
      " -4.11291122e-02  2.45149750e-02  3.25210467e-02  5.83254322e-02\n",
      " -5.98802567e-02 -3.90218571e-02 -5.08031296e-03 -1.32420391e-01\n",
      "  1.02178618e-01  3.26106250e-02  2.39514988e-02 -6.92930371e-02\n",
      "  3.15349996e-02  4.29909900e-02 -1.07068561e-01 -1.04299774e-02\n",
      "  1.02780908e-02  7.82946646e-02 -5.16480207e-02 -7.14460030e-33\n",
      " -3.02090514e-02  6.90772012e-02 -4.88004126e-02  1.18422896e-01\n",
      "  1.83583479e-02 -7.05934642e-03  1.34535609e-02  1.23545326e-01\n",
      "  1.78731326e-02  5.65703399e-02 -3.43708172e-02 -4.33190092e-02\n",
      " -3.50100896e-03  2.90891454e-02  9.60240606e-03  4.07433398e-02\n",
      " -7.12892180e-03  2.78970115e-02 -8.76685828e-02  4.65406552e-02\n",
      "  1.28062274e-02 -1.13062444e-03 -5.24799945e-03  7.04181716e-02\n",
      " -1.26896173e-01  5.34984544e-02  5.69460690e-02 -1.35532441e-02\n",
      " -1.04698939e-02 -5.59788849e-03 -6.43180683e-03 -3.46210226e-02\n",
      " -7.61579424e-02  1.57394037e-01 -4.60953526e-02 -5.30090593e-02\n",
      "  4.23091576e-02 -3.62291932e-02 -2.28073020e-02 -7.39251729e-03\n",
      "  4.40352736e-03 -2.92659551e-03 -1.57630146e-02  6.65431172e-02\n",
      " -5.82687184e-03  2.88599692e-02 -6.44207820e-02 -2.98015289e-02\n",
      " -1.46230748e-02 -1.02999978e-01  4.43609394e-02 -5.24196066e-02\n",
      "  1.70255601e-02 -4.94485609e-02  3.66594717e-02  3.23918797e-02\n",
      "  2.07390320e-02 -9.16036032e-03  1.60191860e-02 -4.52928914e-04\n",
      "  4.09050100e-03  4.33294009e-03  2.09116824e-02 -1.87266935e-02\n",
      " -1.54491086e-02 -1.82641577e-02  8.95998850e-02  1.78746581e-02\n",
      " -9.63138323e-03  2.41727680e-02  1.47490218e-01  6.78448826e-02\n",
      " -4.52523455e-02  2.69127097e-02 -1.25533685e-01  6.43150881e-02\n",
      " -3.35196853e-02  4.08309102e-02  2.28958726e-02 -1.72251568e-03\n",
      " -1.52880969e-02  4.21779454e-02  2.12993827e-02 -1.93993177e-03\n",
      " -6.89764619e-02 -9.53511745e-02  5.21994801e-03  3.24660502e-02\n",
      " -3.38602923e-02 -6.09839559e-02 -3.16624977e-02  5.24509512e-02\n",
      "  2.17930786e-02  3.47087309e-02 -3.96355204e-02 -3.52211522e-08\n",
      " -2.54983418e-02 -9.96224433e-02  1.12773729e-02  3.56359035e-03\n",
      "  5.32219820e-02 -4.71067019e-02 -8.66200179e-02  1.22779980e-02\n",
      "  4.96677272e-02 -3.51701230e-02  1.21939763e-01  2.34969966e-02\n",
      " -1.16927601e-01  7.96641633e-02 -2.05888730e-02 -5.92233650e-02\n",
      "  1.75307505e-02  9.98759940e-02 -2.40192190e-03 -3.89058553e-02\n",
      "  5.69635443e-02 -1.09146032e-02  3.23173404e-02 -6.62293360e-02\n",
      "  3.22821327e-02  5.84489182e-02 -9.97481942e-02  7.90634230e-02\n",
      " -1.63209916e-03 -3.97802219e-02  1.29723614e-02  3.09077390e-02\n",
      "  3.60473730e-02  2.48137619e-02  5.27277403e-02  8.96481052e-03\n",
      "  2.79558916e-02  6.22909255e-02  2.81839501e-02  3.46683860e-02\n",
      " -1.68703254e-02 -2.73347571e-02  4.88277264e-02  1.84639413e-02\n",
      "  4.25728634e-02 -7.54592521e-03  3.61313927e-03  2.42077652e-02\n",
      " -9.39816236e-03 -4.86294925e-03 -5.60014620e-02  3.21849026e-02\n",
      "  4.17101681e-02 -8.08187947e-03  8.99976771e-03  6.91672713e-02\n",
      "  8.48255865e-03 -2.58276928e-02  3.71953510e-02  3.10902135e-03\n",
      "  5.09528443e-02  4.52340282e-02 -4.94257510e-02 -3.19216885e-02]\n",
      "임베딩 차원: (384,)\n"
     ]
    }
   ],
   "source": [
    "from sentence_transformers import SentenceTransformer\n",
    "\n",
    "# 모델 로드\n",
    "model = SentenceTransformer('all-MiniLM-L6-v2')\n",
    "\n",
    "# 임베딩할 문장\n",
    "sentence = \"이것은 임베딩 예제입니다.\"\n",
    "\n",
    "# 문장 임베딩 생성\n",
    "embedding = model.encode(sentence)\n",
    "\n",
    "# 임베딩 출력\n",
    "print(\"임베딩 결과:\", embedding)\n",
    "print(\"임베딩 차원:\", embedding.shape)"
   ]
  },
  {
   "cell_type": "code",
   "execution_count": 8,
   "id": "aa1856fa-9166-47fe-882d-68f7caf7c540",
   "metadata": {},
   "outputs": [
    {
     "data": {
      "text/plain": [
       "array([[-0.03230849,  0.04782481,  0.11414682, ...,  0.08523773,\n",
       "        -0.07986869, -0.03875396],\n",
       "       [-0.00625349,  0.06721037,  0.10082836, ...,  0.05216446,\n",
       "        -0.06284612, -0.00029674],\n",
       "       [ 0.01268322,  0.02962035,  0.07266511, ...,  0.05037779,\n",
       "        -0.0675481 ,  0.01025296]], shape=(3, 384), dtype=float32)"
      ]
     },
     "execution_count": 8,
     "metadata": {},
     "output_type": "execute_result"
    }
   ],
   "source": [
    "client = chromadb.Client()\n",
    "collection = client.create_collection(\"example-collection\")\n",
    "# 임베딩 모델 초기화\n",
    "model = SentenceTransformer('all-MiniLM-L6-v2')\n",
    "documents = [\n",
    "    \"고양이는 작은 육식동물로, 주로 애완동물로 기릅니다. 민첩하고 장난기 있는 행동으로 유명합니다.\",\n",
    "    \"강아지는 충성심이 강하고 친절한 동물로, 흔히 인간의 최고의 친구로 불립니다. 주로 애완동물로 기르고, 동반자로서 유명합니다.\",\n",
    "    \"고양이와 강아지는 전 세계적으로 인기 있는 애완동물로, 각각 독특한 특징을 가지고 있습니다.\"\n",
    "]\n",
    "ids = [\"doc1\", \"doc2\", \"doc3\"]\n",
    "embeddings = model.encode(documents)\n",
    "embeddings"
   ]
  },
  {
   "cell_type": "code",
   "execution_count": 9,
   "id": "e86aeef3",
   "metadata": {},
   "outputs": [
    {
     "name": "stdout",
     "output_type": "stream",
     "text": [
      "벡터 데이터를 컬렉션에 추가했습니다.\n",
      "임베딩 차원: (3, 384)\n"
     ]
    }
   ],
   "source": [
    "\n",
    "# 벡터 데이터 추가\n",
    "collection.add(\n",
    "    ids=ids,\n",
    "    documents=documents,\n",
    "    embeddings=embeddings,\n",
    ")\n",
    "print(\"벡터 데이터를 컬렉션에 추가했습니다.\")\n",
    "print(\"임베딩 차원:\", embeddings.shape)"
   ]
  },
  {
   "cell_type": "markdown",
   "id": "93e2f357-5389-47e2-92ec-d390ccbadafa",
   "metadata": {},
   "source": [
    "### 3.2.7 임베딩 데이터 검색"
   ]
  },
  {
   "cell_type": "code",
   "execution_count": 10,
   "id": "3b7130f8-9323-41b5-8a82-159d95c3281e",
   "metadata": {},
   "outputs": [
    {
     "name": "stdout",
     "output_type": "stream",
     "text": [
      "\n",
      "유사한 벡터 검색 결과:\n",
      "{\n",
      "    \"검색된 문서 ID\": [\n",
      "        \"doc1\",\n",
      "        \"doc3\"\n",
      "    ],\n",
      "    \"유사도 거리\": [\n",
      "        1.4484703540802002,\n",
      "        1.448584794998169\n",
      "    ]\n",
      "}\n"
     ]
    }
   ],
   "source": [
    "query_text = \"고양이\"\n",
    "query_embedding = model.encode([query_text])\n",
    "\n",
    "# 벡터 컬렉션에서 유사한 벡터 검색\n",
    "results = collection.query(query_embeddings=query_embedding, n_results=2)\n",
    "\n",
    "formatted_results = {\n",
    "    \"검색된 문서 ID\": results[\"ids\"][0],\n",
    "    \"유사도 거리\": results[\"distances\"][0]\n",
    "}\n",
    "print(\"\\n유사한 벡터 검색 결과:\")\n",
    "print(json.dumps(formatted_results, indent=4, ensure_ascii=False))"
   ]
  },
  {
   "cell_type": "code",
   "execution_count": 13,
   "id": "f44e276e",
   "metadata": {},
   "outputs": [
    {
     "data": {
      "text/plain": [
       "(1, 384)"
      ]
     },
     "execution_count": 13,
     "metadata": {},
     "output_type": "execute_result"
    }
   ],
   "source": [
    "results.keys()\n",
    "query_embedding.shape"
   ]
  },
  {
   "cell_type": "markdown",
   "id": "26998d4a-0b06-42dd-bf17-263938dfbb39",
   "metadata": {},
   "source": [
    "### 3.2.8 크로마의 저장 방식"
   ]
  },
  {
   "cell_type": "code",
   "execution_count": 14,
   "id": "0cc3fe19-c248-449f-b958-d2ec23da7497",
   "metadata": {},
   "outputs": [],
   "source": [
    "from chromadb import PersistentClient\n",
    "\n",
    "client = PersistentClient(path=\"chroma_storage\") # 영구 저장 경로 설정\n",
    "collection = client.get_or_create_collection(\"persistent_collection\")\n",
    "\n",
    "# 컬렉션 생성 및 데이터 추가\n",
    "# 자동으로 디스크 저장됨\n",
    "collection.add(\n",
    "    embeddings=[[0.9, 0.8, 0.7]],\n",
    "    metadatas=[{\"name\": \"persistent_item\"}],\n",
    "    ids=[\"doc3\"]\n",
    ")"
   ]
  },
  {
   "cell_type": "code",
   "execution_count": 15,
   "id": "17ab89b0-a0cd-4a88-93a4-e6403f6498b5",
   "metadata": {},
   "outputs": [
    {
     "name": "stdout",
     "output_type": "stream",
     "text": [
      "\n",
      "저장된 데이터 검색 결과:\n",
      "{\n",
      "    \"검색된 문서 ID\": [\n",
      "        \"doc3\"\n",
      "    ],\n",
      "    \"유사도 거리\": [\n",
      "        0.0\n",
      "    ],\n",
      "    \"메타데이터\": [\n",
      "        {\n",
      "            \"name\": \"persistent_item\"\n",
      "        }\n",
      "    ]\n",
      "}\n"
     ]
    }
   ],
   "source": [
    "# Chroma 클라이언트 재시작 후 데이터를 불러옴\n",
    "client = PersistentClient(path=\"chroma_storage\")\n",
    "collection = client.get_collection(\"persistent_collection\")\n",
    "\n",
    "# 저장된 데이터 확인\n",
    "results = collection.query(\n",
    "    query_embeddings=[[0.9, 0.8, 0.7]],\n",
    "    n_results=1\n",
    ")\n",
    "\n",
    "# 검색 결과 정리\n",
    "formatted_results = {\n",
    "    \"검색된 문서 ID\": results[\"ids\"][0],\n",
    "    \"유사도 거리\": results[\"distances\"][0],\n",
    "    \"메타데이터\": results[\"metadatas\"][0]\n",
    "}\n",
    "\n",
    "print(\"\\n저장된 데이터 검색 결과:\")\n",
    "print(json.dumps(formatted_results, indent=4, ensure_ascii=False))"
   ]
  },
  {
   "cell_type": "markdown",
   "id": "5dd2879c-0d30-488e-9451-d68a4d55b47b",
   "metadata": {},
   "source": [
    "### 3.2.9 임베딩 기반 라마인덱스 답변 생성"
   ]
  },
  {
   "cell_type": "code",
   "execution_count": null,
   "id": "fa494d51-d2e2-4df5-b94d-459b608947f2",
   "metadata": {},
   "outputs": [],
   "source": [
    "import chromadb\n",
    "from llama_index.core.schema import Document\n",
    "from llama_index.embeddings.huggingface import HuggingFaceEmbedding\n",
    "import os\n",
    "api_key = os.environ.get(\"OPENAI_API_KEY\")\n"
   ]
  },
  {
   "cell_type": "code",
   "execution_count": 18,
   "id": "1cd9f64e",
   "metadata": {},
   "outputs": [],
   "source": [
    "\n",
    "# ChromaDB 클라이언트 생성 및 컬렉션 준비\n",
    "client = chromadb.PersistentClient(path=\"./chroma_db\") # 데이터를 저장할 로컬 경로 지정\n",
    "collection = client.get_or_create_collection(\"example-collection\") # 컬렉션 생성 또는 불러오기\n",
    "\n",
    "\n",
    "# 문서 데이터 준비\n",
    "documents = [\n",
    "    \"고양이는 작은 육식동물로, 주로 애완동물로 기릅니다. 민첩하고 장난기 있는 행동으로 유명합니다.\",\n",
    "    \"강아지는 충성심이 강하고 친절한 동물로, 흔히 인간의 최고의 친구로 불립니다. 주로 애완동물로 기르고, 동반자로서 유명합니다.\",\n",
    "    \"고양이와 강아지는 전 세계적으로 인기 있는 애완동물로, 각각 독특한 특징을 가지고 있습니다.\"\n",
    "]\n",
    "ids = [\"doc1\", \"doc2\", \"doc3\"]\n",
    "\n",
    "# 문서를 LlamaIndex의 Document 형식으로 변환\n",
    "nodes = [Document(text=doc, id_=doc_id) for doc, doc_id in zip(documents, ids)]"
   ]
  },
  {
   "cell_type": "code",
   "execution_count": 19,
   "id": "020791c1-17ef-4afb-ab92-b497f3de86ba",
   "metadata": {},
   "outputs": [],
   "source": [
    "import os\n",
    "from llama_index.vector_stores.chroma import ChromaVectorStore\n",
    "from llama_index.core import VectorStoreIndex\n",
    "from llama_index.llms.openai import OpenAI\n",
    "\n",
    "llm = OpenAI(api_key=os.environ.get(\"OPENAI_API_KEY\"))\n",
    "\n",
    "# Hugging Face 임베딩 모델 설정\n",
    "embed_model = HuggingFaceEmbedding(model_name=\"all-MiniLM-L6-v2\")\n",
    "\n",
    "\n",
    "# Chroma 벡터 스토어 생성\n",
    "vector_store = ChromaVectorStore(chroma_collection=collection)\n",
    "\n",
    "# LlamaIndex의 VectorStoreIndex 생성\n",
    "index = VectorStoreIndex.from_documents(nodes, vector_store=vector_store,\n",
    "embed_model= embed_model, llm=llm)"
   ]
  },
  {
   "cell_type": "code",
   "execution_count": 20,
   "id": "b0ea8664-a81e-403d-8133-ac314178df80",
   "metadata": {},
   "outputs": [
    {
     "name": "stdout",
     "output_type": "stream",
     "text": [
      "[질의 결과]\n",
      "고양이는 독립적이고 까다로운 동물로 알려져 있습니다. 주로 자신의 영역을 중시하며, 깨끗한 습성을 가지고 있습니다. 또한, 고양이는 사냥본능이 강하고 조용한 성격을 가지고 있습니다.\n"
     ]
    }
   ],
   "source": [
    "# 쿼리 엔진 생성\n",
    "query_engine = index.as_query_engine()\n",
    "\n",
    "# 질의 수행\n",
    "query_text = \"고양이에 대해 알려줘\"\n",
    "response = query_engine.query(query_text)\n",
    "\n",
    "# 결과 출력\n",
    "print(\"[질의 결과]\")\n",
    "print(response)"
   ]
  },
  {
   "cell_type": "markdown",
   "id": "43a946f1-1fc1-4f83-a7c3-d89a055b7597",
   "metadata": {},
   "source": [
    "### 3.2.10 라마인덱스 기반 답변 생성"
   ]
  },
  {
   "cell_type": "code",
   "execution_count": null,
   "id": "5503053a-49ce-46c8-a789-4eaa652bc1ca",
   "metadata": {},
   "outputs": [],
   "source": [
    "# 디폴트 모델은 'text-embedding-ada-002'\n",
    "from llama_index.core import Settings\n",
    "print(f\"현재 임베딩 모델: {Settings.embed_model}\")"
   ]
  },
  {
   "cell_type": "code",
   "execution_count": null,
   "id": "4ea0b603-0ce0-4352-ad15-b665d3bf8fcb",
   "metadata": {},
   "outputs": [],
   "source": [
    "documents = [\n",
    "    \"고양이는 작은 육식동물로, 주로 애완동물로 기릅니다. 민첩하고 장난기 있는 행동으로 유명합니다.\",\n",
    "    \"강아지는 충성심이 강하고 친절한 동물로, 흔히 인간의 최고의 친구로 불립니다. 주로 애완동물로 기르고, 동반자로서 유명합니다.\",\n",
    "    \"고양이와 강아지는 전 세계적으로 인기 있는 애완동물로, 각각 독특한 특징을 가지고 있습니다.\"\n",
    "]\n",
    "ids = [\"doc1\", \"doc2\", \"doc3\"]\n",
    "\n",
    "# 문서를 LlamaIndex의 Document 형식으로 변환\n",
    "nodes = [Document(text=doc, id_=doc_id) for doc, doc_id in zip(documents, ids)]\n",
    "\n",
    "# Chroma 벡터 스토어 생성\n",
    "vector_store = ChromaVectorStore(chroma_collection=collection)\n",
    "\n",
    "# LlamaIndex의 VectorStoreIndex 생성 (임베딩 모델과 LLM은 기본값 사용)\n",
    "index = VectorStoreIndex.from_documents(nodes, vector_store=vector_store)\n",
    "\n",
    "# 쿼리 엔진 생성 (기본적인 검색 + 답변 생성 기능 활성화)\n",
    "query_engine = index.as_query_engine()"
   ]
  },
  {
   "cell_type": "code",
   "execution_count": 23,
   "id": "ea23483a-e1f3-4d5f-8464-d87dae6c5775",
   "metadata": {},
   "outputs": [
    {
     "name": "stdout",
     "output_type": "stream",
     "text": [
      "[질의 결과]\n",
      "고양이는 작은 육식동물로, 주로 애완동물로 기르며 민첩하고 장난기 있는 행동으로 유명합니다.\n",
      "\n",
      "[검색 문서]\n",
      "1. 고양이는 작은 육식동물로, 주로 애완동물로 기릅니다. 민첩하고 장난기 있는 행동으로 유명합니다.\n",
      "\n",
      "2. 고양이와 강아지는 전 세계적으로 인기 있는 애완동물로, 각각 독특한 특징을 가지고 있습니다.\n",
      "\n"
     ]
    }
   ],
   "source": [
    "query_text = \"고양이에 대해 알려줘\"\n",
    "response = query_engine.query(query_text)\n",
    "\n",
    "# 최종 응답 출력\n",
    "print(\"[질의 결과]\")\n",
    "print(response)\n",
    "\n",
    "# 응답 생성에 사용된 문서 확인\n",
    "print(\"\\n[검색 문서]\")\n",
    "\n",
    "for i, node in enumerate(response.source_nodes, 1):\n",
    "    print(f\"{i}. {node.text}\\n\")"
   ]
  },
  {
   "cell_type": "code",
   "execution_count": null,
   "id": "82d35088-d797-4758-8a66-1071d0d3b394",
   "metadata": {},
   "outputs": [],
   "source": []
  }
 ],
 "metadata": {
  "kernelspec": {
   "display_name": "v_llama_index",
   "language": "python",
   "name": "python3"
  },
  "language_info": {
   "codemirror_mode": {
    "name": "ipython",
    "version": 3
   },
   "file_extension": ".py",
   "mimetype": "text/x-python",
   "name": "python",
   "nbconvert_exporter": "python",
   "pygments_lexer": "ipython3",
   "version": "3.10.18"
  }
 },
 "nbformat": 4,
 "nbformat_minor": 5
}
